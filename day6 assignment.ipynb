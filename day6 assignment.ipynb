{
 "cells": [
  {
   "cell_type": "markdown",
   "metadata": {},
   "source": [
    "# Day-6 assignment-question1\n",
    "# Bank account"
   ]
  },
  {
   "cell_type": "code",
   "execution_count": 2,
   "metadata": {},
   "outputs": [],
   "source": [
    "class bank():\n",
    "    def __init__(self,ownerName,balance):\n",
    "        self.ownerName=ownerName\n",
    "        self.balance=balance\n",
    "        print(\"owner\",self.ownerName)\n",
    "        print(\"original balance\",self.balance)\n",
    "    def deposit(self,a):\n",
    "        self.balance=self.balance+a\n",
    "        print(\"Amount deposited\",a)\n",
    "    def withdraw(self,b):\n",
    "        if b<self.balance:\n",
    "            self.balance=self.balance-b\n",
    "            print(\"Withdrawn amount\",b)\n",
    "        else:\n",
    "            print(\" Balance limit exceeded\")\n",
    "        print(\"Balance\",self.balance)"
   ]
  },
  {
   "cell_type": "code",
   "execution_count": 8,
   "metadata": {},
   "outputs": [
    {
     "name": "stdout",
     "output_type": "stream",
     "text": [
      "owner priya\n",
      "original balance 22000\n",
      "Amount deposited 100\n",
      "Withdrawn amount 200\n",
      "Balance 21900\n"
     ]
    }
   ],
   "source": [
    "acc=bank(\"priya\",22000)\n",
    "acc.deposit(100)\n",
    "acc.withdraw(200)"
   ]
  },
  {
   "cell_type": "markdown",
   "metadata": {},
   "source": [
    "# Day-6 assignment-question2\n",
    "# cone"
   ]
  },
  {
   "cell_type": "code",
   "execution_count": 2,
   "metadata": {},
   "outputs": [],
   "source": [
    "from math import pi,sqrt\n",
    "class cone:\n",
    "    def  __init__(self,r,h):\n",
    "        self.radius=r\n",
    "        self.height=h\n",
    "        print(\"radius\",r)\n",
    "        print(\"height\",h)\n",
    "        \n",
    "    def vol(self):\n",
    "        return pi*(r**2)*(h/3)\n",
    "    def area(self):\n",
    "        return (pi*(r**2),pi*(r)*sqrt(r**2+h**2))"
   ]
  },
  {
   "cell_type": "code",
   "execution_count": null,
   "metadata": {},
   "outputs": [],
   "source": [
    "d=cone(4,3)\n",
    "print('volume',d.vol())\n",
    "print(\"base area,side area\",d.area())"
   ]
  }
 ],
 "metadata": {
  "kernelspec": {
   "display_name": "Python 3",
   "language": "python",
   "name": "python3"
  },
  "language_info": {
   "codemirror_mode": {
    "name": "ipython",
    "version": 3
   },
   "file_extension": ".py",
   "mimetype": "text/x-python",
   "name": "python",
   "nbconvert_exporter": "python",
   "pygments_lexer": "ipython3",
   "version": "3.8.3"
  }
 },
 "nbformat": 4,
 "nbformat_minor": 4
}
