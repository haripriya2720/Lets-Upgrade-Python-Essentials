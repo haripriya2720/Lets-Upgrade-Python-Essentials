{
 "cells": [
  {
   "cell_type": "markdown",
   "metadata": {},
   "source": [
    "# Decorator- fibonacci-day8-assignment"
   ]
  },
  {
   "cell_type": "code",
   "execution_count": 1,
   "metadata": {},
   "outputs": [],
   "source": [
    "def inpnum(f):\n",
    "    def fibnum(x):\n",
    "            return f(x)\n",
    "    return fibnum\n",
    "    \n",
    "@inpnum\n",
    "def fibonacci(n):\n",
    "    a=0\n",
    "    b=1\n",
    "    sum=0\n",
    "    count=1\n",
    "    print(\"Fibonacci series\",end=\",\")\n",
    "    while count<=n:\n",
    "        print(sum,end=\",\")\n",
    "        count+=1\n",
    "        a=b\n",
    "        b=sum\n",
    "        sum=a+b"
   ]
  },
  {
   "cell_type": "code",
   "execution_count": 2,
   "metadata": {},
   "outputs": [
    {
     "name": "stdout",
     "output_type": "stream",
     "text": [
      "Fibonacci series,0,1,1,2,3,5,8,13,21,"
     ]
    }
   ],
   "source": [
    "fibonacci(9)"
   ]
  },
  {
   "cell_type": "markdown",
   "metadata": {},
   "source": [
    "# Exceptional Handling-day8-assignment"
   ]
  },
  {
   "cell_type": "code",
   "execution_count": 3,
   "metadata": {},
   "outputs": [
    {
     "name": "stdout",
     "output_type": "stream",
     "text": [
      "Writing check.txt\n"
     ]
    }
   ],
   "source": [
    "%%writefile check.txt\n",
    "\"heyyyyy\""
   ]
  },
  {
   "cell_type": "code",
   "execution_count": 4,
   "metadata": {},
   "outputs": [
    {
     "name": "stdout",
     "output_type": "stream",
     "text": [
      "not writable\n"
     ]
    }
   ],
   "source": [
    "try:\n",
    "    file=open(\"check.txt\",\"r\")\n",
    "    file.write(\"you can't write anything \")\n",
    "except Exception as itsokay:\n",
    "    print(itsokay)\n",
    "    \n",
    "finally:    \n",
    "    file.close"
   ]
  },
  {
   "cell_type": "code",
   "execution_count": null,
   "metadata": {},
   "outputs": [],
   "source": []
  }
 ],
 "metadata": {
  "kernelspec": {
   "display_name": "Python 3",
   "language": "python",
   "name": "python3"
  },
  "language_info": {
   "codemirror_mode": {
    "name": "ipython",
    "version": 3
   },
   "file_extension": ".py",
   "mimetype": "text/x-python",
   "name": "python",
   "nbconvert_exporter": "python",
   "pygments_lexer": "ipython3",
   "version": "3.8.3"
  }
 },
 "nbformat": 4,
 "nbformat_minor": 4
}
